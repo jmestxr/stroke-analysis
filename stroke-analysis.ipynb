{
 "cells": [
  {
   "cell_type": "markdown",
   "metadata": {},
   "source": [
    "<h1> DS102 Project - An analysis on the possible risk factors of stroke </h1>\n",
    " \n",
    "<h2> Project Team 3 </h2>\n",
    " \n",
    " \n",
    "<h3> Team Members </h3><br>\n",
    "1. Chong Jia Zhi<br>\n",
    "2. Raine Wong Chin Weng<br>\n",
    "3. Ng Chek Khau<br>\n",
    "4. Tan Xing Rong, James<br>\n",
    "5. Ang Heng Yi\n",
    " \n",
    " \n",
    "<h3> Date: 15 Apr 2021 </h3>"
   ]
  },
  {
   "cell_type": "markdown",
   "metadata": {},
   "source": [
    "<h2> Problem Statement </h2>\n",
    "\n",
    "According to WHO, stroke is the 2nd leading cause of death globally, responsible for approximately 11% of total deaths worldwide. In this project, we seek to uncover the various risk factors that may contribute to a greater possibility of a stroke to spread awareness on how to best prevent stroke early on."
   ]
  },
  {
   "cell_type": "markdown",
   "metadata": {},
   "source": [
    "<h2> Project Objective </h2>\n",
    "\n",
    "We aim to investigate the various risk factors of stroke, namely age, gender, hypertension, heart disease, average glucose level, BMI and smoking status. Through this, we hope to understand the degree to which each of these factors affect the risk of stroke.\n"
   ]
  },
  {
   "cell_type": "markdown",
   "metadata": {},
   "source": [
    "<h2> Initial Hypothesis </h2>\n",
    "\n",
    "A stroke occurs when the blood supply to part of the brain is interrupted or reduced, depriving brain cells of oxygen and nutrients. Based on this reasoning alone, we hypothesise that heart disease is the most important factor affecting the risk of stroke as it specifically affects the blood vessels."
   ]
  },
  {
   "cell_type": "markdown",
   "metadata": {},
   "source": [
    "<h2> Dataset </h2>\n",
    "\n",
    "Our dataset contains various possible risk factors and incidence of stroke for 5000+ patients. Each row in the data provides relevant information about the patient. <br>\n",
    "\n",
    "There are 12 attributes for each patient in this dataset:\n",
    "\n",
    "<table>    \n",
    "<tr>\n",
    "    <th>Attribute</th><th>Description</th>\n",
    "</tr>\n",
    "<tr>\n",
    "    <td>id</td><td>unique identifier</td>\n",
    "</tr>  \n",
    "<tr>\n",
    "    <td>gender</td><td>\"Male\", \"Female\" or \"Other\"</td>\n",
    "</tr>  \n",
    "<tr>\n",
    "    <td>age</td><td>age of patient</td>\n",
    "</tr>  \n",
    "<tr>\n",
    "    <td>hypertension</td><td>0 if the patient doesn't have hypertension, 1 if the patient has hypertension</td>\n",
    "</tr>  \n",
    "<tr>\n",
    "    <td>heart_disease</td><td>0 if the patient doesn't have any heart diseases, 1 if the patient has a heart disease</td>\n",
    "</tr>\n",
    "<tr>\n",
    "    <td>ever_married</td><td>\"No\" or \"Yes\"</td>\n",
    "</tr> \n",
    "<tr>\n",
    "    <td>work_type</td><td>\"children\", \"Govt_jov\", \"Never_worked\", \"Private\" or \"Self-employed\"</td>\n",
    "</tr> \n",
    "<tr>\n",
    "    <td>Residence_type</td><td>\"Rural\" or \"Urban\"</td>\n",
    "</tr> \n",
    "<tr>\n",
    "    <td>avg_glucose_level</td><td>average glucose level in blood</td>\n",
    "</tr> \n",
    "<tr>\n",
    "    <td>bmi</td><td>body mass index</td>\n",
    "</tr> \n",
    "<tr>\n",
    "    <td>smoking_status</td><td>\"formerly smoked\", \"never smoked\", \"smokes\" or \"Unknown\"</td>\n",
    "</tr> \n",
    "<tr>\n",
    "    <td>stroke</td><td>1 if the patient had a stroke or 0 if not</td>\n",
    "</tr> \n",
    "</table>\n",
    "     \n",
    "     \n",
    "Source: https://www.kaggle.com/fedesoriano/stroke-prediction-dataset "
   ]
  },
  {
   "cell_type": "markdown",
   "metadata": {},
   "source": [
    "<h2> General Approach </h2>\n",
    "\n",
    "Of the 11 attributes (excluding the dependent variable - stroke) provided to us, we will select those that we deem are more significant - <b> `gender`, `age`, `hypertension`, `heart_disease`, `avg_glucose_level`, `bmi` and `smoking status` </b> - as they directly affect a patient's physical health. <br>\n",
    "\n",
    "We will then further investigate each of the seven selected factors using appropriate data visualisations, drawing insights on how they affect the risk of stroke. <br>\n",
    "\n",
    "Finally, using an appropriate machine learning model, we will use our data to predict, given the same seven input attributes for each patient, whether a patient will suffer a stroke."
   ]
  },
  {
   "cell_type": "markdown",
   "metadata": {},
   "source": [
    "<h2> A. Data Preparation </h2>"
   ]
  },
  {
   "cell_type": "markdown",
   "metadata": {},
   "source": [
    "<h3>I. Importing the relevant libraries</h3>"
   ]
  },
  {
   "cell_type": "code",
   "execution_count": 1,
   "metadata": {},
   "outputs": [],
   "source": [
    "import warnings\n",
    "warnings.filterwarnings('ignore')\n",
    "\n",
    "# For Data Processing & Visualisations\n",
    "import pandas as pd\n",
    "import numpy as np\n",
    "import matplotlib.pyplot as plt\n",
    "import seaborn as sns\n",
    "\n",
    "# For ML\n",
    "from sklearn.model_selection import train_test_split\n",
    "from sklearn.linear_model import LogisticRegression\n",
    "from sklearn.model_selection import KFold\n",
    "from sklearn.model_selection import cross_val_predict\n",
    "from sklearn.metrics import confusion_matrix\n",
    "from sklearn.metrics import plot_confusion_matrix\n",
    "from sklearn.metrics import accuracy_score"
   ]
  },
  {
   "cell_type": "markdown",
   "metadata": {},
   "source": [
    "<h3>II. Importing the data</h3>"
   ]
  },
  {
   "cell_type": "code",
   "execution_count": 2,
   "metadata": {},
   "outputs": [
    {
     "data": {
      "text/html": [
       "<div>\n",
       "<style scoped>\n",
       "    .dataframe tbody tr th:only-of-type {\n",
       "        vertical-align: middle;\n",
       "    }\n",
       "\n",
       "    .dataframe tbody tr th {\n",
       "        vertical-align: top;\n",
       "    }\n",
       "\n",
       "    .dataframe thead th {\n",
       "        text-align: right;\n",
       "    }\n",
       "</style>\n",
       "<table border=\"1\" class=\"dataframe\">\n",
       "  <thead>\n",
       "    <tr style=\"text-align: right;\">\n",
       "      <th></th>\n",
       "      <th>gender</th>\n",
       "      <th>age</th>\n",
       "      <th>hypertension</th>\n",
       "      <th>heart_disease</th>\n",
       "      <th>avg_glucose_level</th>\n",
       "      <th>bmi</th>\n",
       "      <th>smoking_status</th>\n",
       "      <th>stroke</th>\n",
       "    </tr>\n",
       "  </thead>\n",
       "  <tbody>\n",
       "    <tr>\n",
       "      <th>0</th>\n",
       "      <td>Male</td>\n",
       "      <td>67.0</td>\n",
       "      <td>0</td>\n",
       "      <td>1</td>\n",
       "      <td>228.69</td>\n",
       "      <td>36.6</td>\n",
       "      <td>formerly smoked</td>\n",
       "      <td>1</td>\n",
       "    </tr>\n",
       "    <tr>\n",
       "      <th>1</th>\n",
       "      <td>Female</td>\n",
       "      <td>61.0</td>\n",
       "      <td>0</td>\n",
       "      <td>0</td>\n",
       "      <td>202.21</td>\n",
       "      <td>NaN</td>\n",
       "      <td>never smoked</td>\n",
       "      <td>1</td>\n",
       "    </tr>\n",
       "    <tr>\n",
       "      <th>2</th>\n",
       "      <td>Male</td>\n",
       "      <td>80.0</td>\n",
       "      <td>0</td>\n",
       "      <td>1</td>\n",
       "      <td>105.92</td>\n",
       "      <td>32.5</td>\n",
       "      <td>never smoked</td>\n",
       "      <td>1</td>\n",
       "    </tr>\n",
       "    <tr>\n",
       "      <th>3</th>\n",
       "      <td>Female</td>\n",
       "      <td>49.0</td>\n",
       "      <td>0</td>\n",
       "      <td>0</td>\n",
       "      <td>171.23</td>\n",
       "      <td>34.4</td>\n",
       "      <td>smokes</td>\n",
       "      <td>1</td>\n",
       "    </tr>\n",
       "    <tr>\n",
       "      <th>4</th>\n",
       "      <td>Female</td>\n",
       "      <td>79.0</td>\n",
       "      <td>1</td>\n",
       "      <td>0</td>\n",
       "      <td>174.12</td>\n",
       "      <td>24.0</td>\n",
       "      <td>never smoked</td>\n",
       "      <td>1</td>\n",
       "    </tr>\n",
       "    <tr>\n",
       "      <th>...</th>\n",
       "      <td>...</td>\n",
       "      <td>...</td>\n",
       "      <td>...</td>\n",
       "      <td>...</td>\n",
       "      <td>...</td>\n",
       "      <td>...</td>\n",
       "      <td>...</td>\n",
       "      <td>...</td>\n",
       "    </tr>\n",
       "    <tr>\n",
       "      <th>5105</th>\n",
       "      <td>Female</td>\n",
       "      <td>80.0</td>\n",
       "      <td>1</td>\n",
       "      <td>0</td>\n",
       "      <td>83.75</td>\n",
       "      <td>NaN</td>\n",
       "      <td>never smoked</td>\n",
       "      <td>0</td>\n",
       "    </tr>\n",
       "    <tr>\n",
       "      <th>5106</th>\n",
       "      <td>Female</td>\n",
       "      <td>81.0</td>\n",
       "      <td>0</td>\n",
       "      <td>0</td>\n",
       "      <td>125.20</td>\n",
       "      <td>40.0</td>\n",
       "      <td>never smoked</td>\n",
       "      <td>0</td>\n",
       "    </tr>\n",
       "    <tr>\n",
       "      <th>5107</th>\n",
       "      <td>Female</td>\n",
       "      <td>35.0</td>\n",
       "      <td>0</td>\n",
       "      <td>0</td>\n",
       "      <td>82.99</td>\n",
       "      <td>30.6</td>\n",
       "      <td>never smoked</td>\n",
       "      <td>0</td>\n",
       "    </tr>\n",
       "    <tr>\n",
       "      <th>5108</th>\n",
       "      <td>Male</td>\n",
       "      <td>51.0</td>\n",
       "      <td>0</td>\n",
       "      <td>0</td>\n",
       "      <td>166.29</td>\n",
       "      <td>25.6</td>\n",
       "      <td>formerly smoked</td>\n",
       "      <td>0</td>\n",
       "    </tr>\n",
       "    <tr>\n",
       "      <th>5109</th>\n",
       "      <td>Female</td>\n",
       "      <td>44.0</td>\n",
       "      <td>0</td>\n",
       "      <td>0</td>\n",
       "      <td>85.28</td>\n",
       "      <td>26.2</td>\n",
       "      <td>Unknown</td>\n",
       "      <td>0</td>\n",
       "    </tr>\n",
       "  </tbody>\n",
       "</table>\n",
       "<p>5110 rows × 8 columns</p>\n",
       "</div>"
      ],
      "text/plain": [
       "      gender   age  hypertension  heart_disease  avg_glucose_level   bmi  \\\n",
       "0       Male  67.0             0              1             228.69  36.6   \n",
       "1     Female  61.0             0              0             202.21   NaN   \n",
       "2       Male  80.0             0              1             105.92  32.5   \n",
       "3     Female  49.0             0              0             171.23  34.4   \n",
       "4     Female  79.0             1              0             174.12  24.0   \n",
       "...      ...   ...           ...            ...                ...   ...   \n",
       "5105  Female  80.0             1              0              83.75   NaN   \n",
       "5106  Female  81.0             0              0             125.20  40.0   \n",
       "5107  Female  35.0             0              0              82.99  30.6   \n",
       "5108    Male  51.0             0              0             166.29  25.6   \n",
       "5109  Female  44.0             0              0              85.28  26.2   \n",
       "\n",
       "       smoking_status  stroke  \n",
       "0     formerly smoked       1  \n",
       "1        never smoked       1  \n",
       "2        never smoked       1  \n",
       "3              smokes       1  \n",
       "4        never smoked       1  \n",
       "...               ...     ...  \n",
       "5105     never smoked       0  \n",
       "5106     never smoked       0  \n",
       "5107     never smoked       0  \n",
       "5108  formerly smoked       0  \n",
       "5109          Unknown       0  \n",
       "\n",
       "[5110 rows x 8 columns]"
      ]
     },
     "metadata": {},
     "output_type": "display_data"
    },
    {
     "name": "stdout",
     "output_type": "stream",
     "text": [
      "Number of patients (size of data): 5110\n",
      "Number of selected risk factors (independent variables): 7\n"
     ]
    }
   ],
   "source": [
    "data_df = pd.read_csv('healthcare-dataset-stroke-data.csv').drop(labels=['id','ever_married','work_type','Residence_type'], axis=1)\n",
    "display(data_df)\n",
    "print('Number of patients (size of data):', data_df.shape[0])\n",
    "print('Number of selected risk factors (independent variables):', data_df.shape[1]-1)"
   ]
  },
  {
   "cell_type": "markdown",
   "metadata": {},
   "source": [
    "<h2> B. Data Cleaning </h2>"
   ]
  },
  {
   "cell_type": "markdown",
   "metadata": {},
   "source": [
    "<h3> I. Identifying which columns have missing values </h3>"
   ]
  },
  {
   "cell_type": "code",
   "execution_count": 3,
   "metadata": {},
   "outputs": [
    {
     "data": {
      "text/plain": [
       "gender                 0\n",
       "age                    0\n",
       "hypertension           0\n",
       "heart_disease          0\n",
       "avg_glucose_level      0\n",
       "bmi                  201\n",
       "smoking_status         0\n",
       "stroke                 0\n",
       "dtype: int64"
      ]
     },
     "execution_count": 3,
     "metadata": {},
     "output_type": "execute_result"
    }
   ],
   "source": [
    "data_df.isnull().sum()"
   ]
  },
  {
   "cell_type": "markdown",
   "metadata": {},
   "source": [
    "<h3> II. Filling missing values </h3><br>\n",
    "NaN values in `bmi` column are replaced with the <b>mean bmi</b>."
   ]
  },
  {
   "cell_type": "code",
   "execution_count": 4,
   "metadata": {},
   "outputs": [],
   "source": [
    "data_df = data_df.fillna(data_df.mean())"
   ]
  },
  {
   "cell_type": "markdown",
   "metadata": {},
   "source": [
    "<h3> III. Identifying unique values of categorical data </h3>\n",
    "\n",
    "For categorical variables that are not one-hot encoded - `gender`, `smoking_status`"
   ]
  },
  {
   "cell_type": "code",
   "execution_count": 5,
   "metadata": {},
   "outputs": [
    {
     "name": "stdout",
     "output_type": "stream",
     "text": [
      "Female    2994\n",
      "Male      2115\n",
      "Other        1\n",
      "Name: gender, dtype: int64\n",
      "\n",
      "never smoked       1892\n",
      "Unknown            1544\n",
      "formerly smoked     885\n",
      "smokes              789\n",
      "Name: smoking_status, dtype: int64\n"
     ]
    }
   ],
   "source": [
    "print(data_df['gender'].value_counts())\n",
    "print()\n",
    "print(data_df['smoking_status'].value_counts())"
   ]
  },
  {
   "cell_type": "markdown",
   "metadata": {},
   "source": [
    "We will not eliminate rows which have ``` ['gender'] == 'Other' ``` or ``` ['smoking_status'] == 'Unknown' ``` yet because their data will be valuable in analysing other risk factors. We will only drop such rows when required."
   ]
  },
  {
   "cell_type": "markdown",
   "metadata": {},
   "source": [
    "<h2> C. Visualising the risk factors </h2> \n",
    "\n",
    "For the independent variables, we are dealing with both discrete data - `gender`, `hypertension`, `heart_disease`, `smoking status`, and continuous data - `age`, `avg_glucose_level`, `bmi`.\n",
    "\n",
    "We are also dealing with a binary dependent variable, `stroke`."
   ]
  },
  {
   "cell_type": "markdown",
   "metadata": {},
   "source": [
    "<h3> I. Gender Risk </h3> <br>\n",
    "Using <b>pie chart</b> to investigate the gender proportion for stroke patients."
   ]
  },
  {
   "cell_type": "code",
   "execution_count": 6,
   "metadata": {},
   "outputs": [
    {
     "data": {
      "image/png": "[encoded data removed]",
      "text/plain": [
       "<Figure size 720x432 with 1 Axes>"
      ]
     },
     "metadata": {},
     "output_type": "display_data"
    }
   ],
   "source": [
    "gender_df = data_df[['gender','stroke']]\n",
    "male_df = gender_df[gender_df['gender']=='Male'] #2115 rows\n",
    "female_df = gender_df[gender_df['gender']=='Female'] #2994 rows\n",
    "\n",
    "# To ensure that the sample of patients obtained has equal chance of being male and female\n",
    "equal_female_df = female_df.sample(n=2115)\n",
    "equal_gender_df = pd.concat([male_df,equal_female_df])\n",
    "\n",
    "# Determine counts for each gender among the sample of stroke patients\n",
    "gender_stroke_ser = equal_gender_df[equal_gender_df['stroke']==1]['gender']\n",
    "gender_stroke_count = gender_stroke_ser.value_counts()\n",
    "\n",
    "# Plotting\n",
    "plt.figure(figsize=(10,6))\n",
    "gender_stroke_count.plot.pie(title='Gender proportion of stroke patients', autopct='%1.1f%%')\n",
    "plt.show()"
   ]
  },
  {
   "cell_type": "markdown",
   "metadata": {},
   "source": [
    "<div class=\"alert alert-block alert-info\">\n",
    "<b>Insights:</b><br> When running the above code several times for different samples, we note that the proportion of stroke patients who are male is slightly greater.\n",
    "</div>"
   ]
  },
  {
   "cell_type": "markdown",
   "metadata": {},
   "source": [
    "<h3> II. Hypertension & Heart Disease Risk </h3>\n",
    "\n",
    "Using <b>bar chart</b> to investigate, for each illness category (none, `hypertension` only, `heart disease` only, both), the proportion of patients who suffer from stroke."
   ]
  },
  {
   "cell_type": "code",
   "execution_count": 7,
   "metadata": {
    "scrolled": false
   },
   "outputs": [
    {
     "data": {
      "image/png": "[encoded data removed]",
      "text/plain": [
       "<Figure size 720x432 with 1 Axes>"
      ]
     },
     "metadata": {
      "needs_background": "light"
     },
     "output_type": "display_data"
    }
   ],
   "source": [
    "illness_df = data_df[['hypertension', 'heart_disease', 'stroke']]\n",
    "\n",
    "# Categorising illness status\n",
    "def illness_sorter(hyper, heart):\n",
    "    if hyper==heart:\n",
    "        if hyper == 0:\n",
    "            return \"None\"\n",
    "        else:\n",
    "            return \"Both\"\n",
    "    elif hyper == 1:\n",
    "        return \"Hypertension only\"\n",
    "    else:\n",
    "        return \"Heart Disease only\"\n",
    "\n",
    "illness_df['illness_status'] = illness_df.apply(lambda row: illness_sorter(row['hypertension'], row['heart_disease']),axis=1)\n",
    "\n",
    "# Determine, for each illness category, the proportion of patients who suffer from stroke\n",
    "illness_status_stroke_count = illness_df[illness_df['stroke']==1]['illness_status'].value_counts()\n",
    "illness_status_total_count = illness_df['illness_status'].value_counts()\n",
    "stroke_proportion_by_illness_status = (illness_status_stroke_count/illness_status_total_count)*100\n",
    "    \n",
    "# Plotting\n",
    "plt.figure(figsize=(10,6))\n",
    "stroke_proportion_by_illness_status.plot.bar(\n",
    "    title='Percentage of people who suffer from stroke, by illness category',\n",
    "    color='purple'\n",
    ")\n",
    "plt.show()"
   ]
  },
  {
   "cell_type": "markdown",
   "metadata": {},
   "source": [
    "<div class=\"alert alert-block alert-info\">\n",
    "<b>Insights:</b><br> With incidence of hypertension and/or heart disease, the probability of suffering from stroke increases significantly. Moreover, heart disease is a greater risk factor than hypertension, according to this bar chart.\n",
    "</div>"
   ]
  },
  {
   "cell_type": "markdown",
   "metadata": {},
   "source": [
    "<h3> III. Smoking Status Risk </h3>\n",
    "\n",
    "Using <b>bar chart</b> to investigate, for each smoking category (`never smoked`, `formerly smoked`, `smokes`), the proportion of patients who suffer from stroke."
   ]
  },
  {
   "cell_type": "code",
   "execution_count": 8,
   "metadata": {},
   "outputs": [
    {
     "data": {
      "image/png": "[encoded data removed]",
      "text/plain": [
       "<Figure size 720x432 with 1 Axes>"
      ]
     },
     "metadata": {
      "needs_background": "light"
     },
     "output_type": "display_data"
    }
   ],
   "source": [
    "smoking_df = data_df[['smoking_status', 'stroke']]\n",
    "\n",
    "# we drop rows with smoking_status == 'Unknown'\n",
    "smoking_df = smoking_df[smoking_df['smoking_status'].isin(['never smoked','formerly smoked','smokes'])]\n",
    "\n",
    "\n",
    "# Determine, for each smoking category, the proportion who suffer from stroke\n",
    "smoking_stroke_count = smoking_df[smoking_df['stroke']==1]['smoking_status'].value_counts()\n",
    "smoking_total_count = smoking_df['smoking_status'].value_counts()\n",
    "stroke_proportion_by_smoking = (smoking_stroke_count/smoking_total_count)*100\n",
    "    \n",
    "# Plotting\n",
    "plt.figure(figsize=(10,6))\n",
    "stroke_proportion_by_smoking.plot.bar(\n",
    "    title = 'Percentage of people who suffer from stroke, by smoking status category'\n",
    ")\n",
    "\n",
    "plt.show()"
   ]
  },
  {
   "cell_type": "markdown",
   "metadata": {},
   "source": [
    "<div class=\"alert alert-block alert-info\">\n",
    "<b>Insights:</b><br> The risk of stroke is a greatest for people who formerly smoke. Surprisingly, the risk for people who smoke as compared to those who never smoked is only slightly higher.\n",
    "</div>"
   ]
  },
  {
   "cell_type": "markdown",
   "metadata": {},
   "source": [
    "<h3> IV. Age Risk </h3>\n",
    "\n",
    "Using <b> distribution plot </b> to investigate the distribution of `age` among stroke patients."
   ]
  },
  {
   "cell_type": "code",
   "execution_count": 9,
   "metadata": {},
   "outputs": [
    {
     "data": {
      "image/png": "[encoded data removed]",
      "text/plain": [
       "<Figure size 720x432 with 1 Axes>"
      ]
     },
     "metadata": {
      "needs_background": "light"
     },
     "output_type": "display_data"
    }
   ],
   "source": [
    "age_df = data_df[['age','stroke']]\n",
    "\n",
    "# To ensure that the sample of patients obtained has equal chance of being in the respective age categories\n",
    "def age_group_sorter(age):\n",
    "    if age<= 20:\n",
    "        return 'A'\n",
    "    elif age<= 40:\n",
    "        return 'B' \n",
    "    elif age<= 60:\n",
    "        return 'C' \n",
    "    else:\n",
    "        return 'D'\n",
    "\n",
    "age_df['age_group'] = age_df['age'].apply(age_group_sorter)\n",
    "A_df = age_df[age_df['age_group']=='A']   #1025 rows\n",
    "B_df = age_df[age_df['age_group']=='B']   #1219 rows\n",
    "C_df = age_df[age_df['age_group']=='C']   #1562 rows\n",
    "D_df = age_df[age_df['age_group']=='D']   #1304 rows\n",
    "\n",
    "equal_B_df = B_df.sample(n=1025)\n",
    "equal_C_df = C_df.sample(n=1025)\n",
    "equal_D_df = D_df.sample(n=1025)\n",
    "equal_age_df = pd.concat([A_df, equal_B_df, equal_C_df, equal_D_df])\n",
    "\n",
    "equal_age_stroke_df = equal_age_df[equal_age_df['stroke']==1]\n",
    "\n",
    "# Plotting\n",
    "plt.figure(figsize=(10,6))\n",
    "sns.distplot(equal_age_stroke_df['age'])\n",
    "plt.xlabel('Age')\n",
    "plt.ylabel('proportion')\n",
    "plt.title('Age distribution among stroke patients')\n",
    "plt.show()"
   ]
  },
  {
   "cell_type": "markdown",
   "metadata": {},
   "source": [
    "<div class=\"alert alert-block alert-info\">\n",
    "<b>Insights:</b><br> The risk of stroke increases as age increases. It increases exponentially from age 20+ onwards and peaks at around age 80.\n",
    "</div>"
   ]
  },
  {
   "cell_type": "markdown",
   "metadata": {},
   "source": [
    "<h3> V. BMI Risk </h3>\n",
    "\n",
    "Using <b> distribution plot </b> to investigate the distribution of `bmi` among stroke patients."
   ]
  },
  {
   "cell_type": "code",
   "execution_count": 10,
   "metadata": {},
   "outputs": [
    {
     "data": {
      "image/png": "[encoded data removed]",
      "text/plain": [
       "<Figure size 720x432 with 1 Axes>"
      ]
     },
     "metadata": {
      "needs_background": "light"
     },
     "output_type": "display_data"
    }
   ],
   "source": [
    "bmi_df = data_df[['bmi','stroke']]\n",
    "\n",
    "# To ensure that the sample of patients obtained has equal chance of being in the respective bmi categories\n",
    "def bmi_sorter(bmi):\n",
    "    if bmi<18.5:\n",
    "        return 'underweight'\n",
    "    elif bmi<25:\n",
    "        return 'normal'\n",
    "    elif bmi<30:\n",
    "        return 'overweight'\n",
    "    else:\n",
    "        return 'obese'\n",
    "    \n",
    "bmi_df['bmicat'] = bmi_df['bmi'].apply(bmi_sorter)\n",
    "underweight_df = bmi_df[bmi_df['bmicat']=='underweight']   #337 rows\n",
    "normal_df = bmi_df[bmi_df['bmicat']=='normal']   #1243 rows\n",
    "overweight_df = bmi_df[bmi_df['bmicat']=='overweight']   #1610 rows\n",
    "obese_df = bmi_df[bmi_df['bmicat']=='obese']    #1920 rows\n",
    "\n",
    "equal_normal_df = normal_df.sample(n=337)\n",
    "equal_overweight_df = overweight_df.sample(n=337)\n",
    "equal_obese_df = obese_df.sample(n=337)\n",
    "equal_bmi_df = pd.concat([underweight_df,normal_df,overweight_df,obese_df])\n",
    "\n",
    "equal_bmi_stroke_df = equal_bmi_df[equal_bmi_df['stroke']==1]\n",
    "\n",
    "# Plotting\n",
    "plt.figure(figsize=(10,6))\n",
    "sns.distplot(equal_bmi_stroke_df['bmi'], color='red')\n",
    "plt.xlabel('BMI')\n",
    "plt.ylabel('proportion')\n",
    "plt.title('BMI distribution among stroke patients')\n",
    "plt.show()"
   ]
  },
  {
   "cell_type": "markdown",
   "metadata": {},
   "source": [
    "<div class=\"alert alert-block alert-info\">\n",
    "<b>Insights:</b><br> The risk of stroke increases sharply as especially as BMI increases from the normal to overweight range, suggesting a higher risk of stroke for overweight patients.\n",
    "</div>"
   ]
  },
  {
   "cell_type": "markdown",
   "metadata": {},
   "source": [
    "<h3> VI. Average Glucose Level Risk </h3>\n",
    "\n",
    "Using <b> box plot </b> to investigate the `avg_glucose_level` for both non-stroke and stroke patients"
   ]
  },
  {
   "cell_type": "code",
   "execution_count": 11,
   "metadata": {},
   "outputs": [
    {
     "data": {
      "image/png": "[encoded data removed]",
      "text/plain": [
       "<Figure size 720x432 with 1 Axes>"
      ]
     },
     "metadata": {
      "needs_background": "light"
     },
     "output_type": "display_data"
    }
   ],
   "source": [
    "glucose_df = data_df[['avg_glucose_level', 'stroke']]\n",
    "\n",
    "glucose_no_stroke_ser = glucose_df[glucose_df['stroke']==0]['avg_glucose_level']\n",
    "glucose_stroke_ser = glucose_df[glucose_df['stroke']==1]['avg_glucose_level']\n",
    "\n",
    "# Plotting\n",
    "plt.figure(figsize=(10,6))\n",
    "sns.boxplot(\n",
    "    data=[glucose_no_stroke_ser, glucose_stroke_ser]\n",
    ")\n",
    "plt.xlabel('Stroke status')\n",
    "plt.ylabel('Average glucose level')\n",
    "plt.title('Average glucose level for non-strokers and strokers')\n",
    "plt.show()"
   ]
  },
  {
   "cell_type": "markdown",
   "metadata": {},
   "source": [
    "<div class=\"alert alert-block alert-info\">\n",
    "<b>Insights:</b><br> \n",
    "- The interquartile range of average glucose level for stroke patients is much wider, suggesting that it is more common for stroke patients to have a higher average glucose level. This potentially means that average glucose level increases the risk of stroke. <br>\n",
    "- However, median average glucose level for stroke patients is only slightly higher than that for non-stroke patients.\n",
    "</div>"
   ]
  },
  {
   "cell_type": "markdown",
   "metadata": {},
   "source": [
    "<h2> D. Machine Learning for Stroke Prediction </h2>\n",
    "\n",
    "- Using sklearn's inbuilt ML algorithms, we are able to make calculated predictions on stroke, given the input parameters (the 7 variables/possible risk factors) for each patient.\n",
    "- As we are dealing with a binary dependent variable, `stroke`, we have identified two suitable ML models - Logistic Regression & Decision Tree, to achieve our predictions.\n",
    "- We will also be comparing the performance results of the two models."
   ]
  },
  {
   "cell_type": "markdown",
   "metadata": {},
   "source": [
    "<h3> I. Data Preparation for ML </h3>\n",
    "\n",
    "- Even after eliminating rows with undesired values, there is still a large discrepancy in the number of stroke patients in our data (202) as compared to non-stroke patients (3363). <br>\n",
    "- To solve this issue, we decided to draw a random sample of 200 each from both stroke and non-stroke data so that our regression model will be trained in both cases of data a fair manner."
   ]
  },
  {
   "cell_type": "code",
   "execution_count": 12,
   "metadata": {},
   "outputs": [],
   "source": [
    "# drop rows with 'gender' == 'Other' and 'smoking_status' == 'Unknown'\n",
    "no_stroke_df = data_df[data_df['stroke'] == 0]\n",
    "stroke_df = data_df[data_df['stroke'] == 1]\n",
    "\n",
    "gender_cond = data_df['gender'] != 'Other'\n",
    "smoking_cond = data_df['smoking_status'] != 'Unknown'\n",
    "\n",
    "stroke_df[gender_cond & smoking_cond].shape #202 rows\n",
    "no_stroke_df[gender_cond & smoking_cond].shape #3363 rows\n",
    "\n",
    "ml_df = pd.concat([stroke_df[gender_cond & smoking_cond].sample(n=200), no_stroke_df[gender_cond & smoking_cond].sample(n=200)])"
   ]
  },
  {
   "cell_type": "markdown",
   "metadata": {},
   "source": [
    "<b> One-Hot Encoding for `gender` and `smoking_status` </b> <br>\n",
    "- This is necessary for our logistic regression model to work and the coefficients computed later on to be interpreted easily.\n",
    "- For `gender`, we encode `Male` to be 0 and `Female` to be 1.\n",
    "- For `smoking`, we encode `never smoked` to be 0 and `formerly smoked`/`smokes` to be 1.\n",
    "- The drawback from combining both `formerly smoked` and `smokes` categories is compensated from the earlier analysis, which we saw a greater proportion of formerly smoked patients suffering from stroke, as compared to patients who are still smoking."
   ]
  },
  {
   "cell_type": "code",
   "execution_count": 13,
   "metadata": {},
   "outputs": [],
   "source": [
    "def gender_encoding(gender):\n",
    "    if gender == 'Male':\n",
    "        return 0\n",
    "    else:\n",
    "        return 1\n",
    "\n",
    "def smoking_encoding(status):\n",
    "    if status == 'never smoked':\n",
    "        return 0\n",
    "    else:\n",
    "        return 1\n",
    "\n",
    "ml_df['gender_code'] = ml_df['gender'].apply(gender_encoding)\n",
    "ml_df['smoking_status_code'] = ml_df['smoking_status'].apply(smoking_encoding)"
   ]
  },
  {
   "cell_type": "markdown",
   "metadata": {},
   "source": [
    "<b> Final Dataset for ML </b>\n",
    "- Our final dataset for our logistic regression model consists of 400 rows, a relatively small dataset.\n",
    "- There are 8 columns, representing 7 independent variables (risk factors of stroke) and 1 dependent variable, `stroke`"
   ]
  },
  {
   "cell_type": "code",
   "execution_count": 14,
   "metadata": {},
   "outputs": [
    {
     "data": {
      "text/html": [
       "<div>\n",
       "<style scoped>\n",
       "    .dataframe tbody tr th:only-of-type {\n",
       "        vertical-align: middle;\n",
       "    }\n",
       "\n",
       "    .dataframe tbody tr th {\n",
       "        vertical-align: top;\n",
       "    }\n",
       "\n",
       "    .dataframe thead th {\n",
       "        text-align: right;\n",
       "    }\n",
       "</style>\n",
       "<table border=\"1\" class=\"dataframe\">\n",
       "  <thead>\n",
       "    <tr style=\"text-align: right;\">\n",
       "      <th></th>\n",
       "      <th>age</th>\n",
       "      <th>hypertension</th>\n",
       "      <th>heart_disease</th>\n",
       "      <th>avg_glucose_level</th>\n",
       "      <th>bmi</th>\n",
       "      <th>stroke</th>\n",
       "      <th>gender_code</th>\n",
       "      <th>smoking_status_code</th>\n",
       "    </tr>\n",
       "  </thead>\n",
       "  <tbody>\n",
       "    <tr>\n",
       "      <th>120</th>\n",
       "      <td>58.0</td>\n",
       "      <td>0</td>\n",
       "      <td>0</td>\n",
       "      <td>59.86</td>\n",
       "      <td>28.0</td>\n",
       "      <td>1</td>\n",
       "      <td>1</td>\n",
       "      <td>1</td>\n",
       "    </tr>\n",
       "    <tr>\n",
       "      <th>6</th>\n",
       "      <td>74.0</td>\n",
       "      <td>1</td>\n",
       "      <td>1</td>\n",
       "      <td>70.09</td>\n",
       "      <td>27.4</td>\n",
       "      <td>1</td>\n",
       "      <td>0</td>\n",
       "      <td>0</td>\n",
       "    </tr>\n",
       "    <tr>\n",
       "      <th>205</th>\n",
       "      <td>78.0</td>\n",
       "      <td>0</td>\n",
       "      <td>0</td>\n",
       "      <td>106.74</td>\n",
       "      <td>33.0</td>\n",
       "      <td>1</td>\n",
       "      <td>1</td>\n",
       "      <td>1</td>\n",
       "    </tr>\n",
       "    <tr>\n",
       "      <th>131</th>\n",
       "      <td>78.0</td>\n",
       "      <td>1</td>\n",
       "      <td>0</td>\n",
       "      <td>130.54</td>\n",
       "      <td>20.1</td>\n",
       "      <td>1</td>\n",
       "      <td>1</td>\n",
       "      <td>0</td>\n",
       "    </tr>\n",
       "    <tr>\n",
       "      <th>45</th>\n",
       "      <td>76.0</td>\n",
       "      <td>1</td>\n",
       "      <td>0</td>\n",
       "      <td>243.58</td>\n",
       "      <td>33.6</td>\n",
       "      <td>1</td>\n",
       "      <td>0</td>\n",
       "      <td>0</td>\n",
       "    </tr>\n",
       "    <tr>\n",
       "      <th>...</th>\n",
       "      <td>...</td>\n",
       "      <td>...</td>\n",
       "      <td>...</td>\n",
       "      <td>...</td>\n",
       "      <td>...</td>\n",
       "      <td>...</td>\n",
       "      <td>...</td>\n",
       "      <td>...</td>\n",
       "    </tr>\n",
       "    <tr>\n",
       "      <th>3248</th>\n",
       "      <td>35.0</td>\n",
       "      <td>1</td>\n",
       "      <td>0</td>\n",
       "      <td>94.20</td>\n",
       "      <td>34.4</td>\n",
       "      <td>0</td>\n",
       "      <td>1</td>\n",
       "      <td>1</td>\n",
       "    </tr>\n",
       "    <tr>\n",
       "      <th>3210</th>\n",
       "      <td>63.0</td>\n",
       "      <td>0</td>\n",
       "      <td>0</td>\n",
       "      <td>95.29</td>\n",
       "      <td>31.6</td>\n",
       "      <td>0</td>\n",
       "      <td>0</td>\n",
       "      <td>1</td>\n",
       "    </tr>\n",
       "    <tr>\n",
       "      <th>2863</th>\n",
       "      <td>58.0</td>\n",
       "      <td>0</td>\n",
       "      <td>0</td>\n",
       "      <td>73.36</td>\n",
       "      <td>36.6</td>\n",
       "      <td>0</td>\n",
       "      <td>1</td>\n",
       "      <td>1</td>\n",
       "    </tr>\n",
       "    <tr>\n",
       "      <th>757</th>\n",
       "      <td>19.0</td>\n",
       "      <td>0</td>\n",
       "      <td>0</td>\n",
       "      <td>84.31</td>\n",
       "      <td>31.8</td>\n",
       "      <td>0</td>\n",
       "      <td>0</td>\n",
       "      <td>0</td>\n",
       "    </tr>\n",
       "    <tr>\n",
       "      <th>2102</th>\n",
       "      <td>78.0</td>\n",
       "      <td>1</td>\n",
       "      <td>1</td>\n",
       "      <td>199.88</td>\n",
       "      <td>29.6</td>\n",
       "      <td>0</td>\n",
       "      <td>0</td>\n",
       "      <td>1</td>\n",
       "    </tr>\n",
       "  </tbody>\n",
       "</table>\n",
       "<p>400 rows × 8 columns</p>\n",
       "</div>"
      ],
      "text/plain": [
       "       age  hypertension  heart_disease  avg_glucose_level   bmi  stroke  \\\n",
       "120   58.0             0              0              59.86  28.0       1   \n",
       "6     74.0             1              1              70.09  27.4       1   \n",
       "205   78.0             0              0             106.74  33.0       1   \n",
       "131   78.0             1              0             130.54  20.1       1   \n",
       "45    76.0             1              0             243.58  33.6       1   \n",
       "...    ...           ...            ...                ...   ...     ...   \n",
       "3248  35.0             1              0              94.20  34.4       0   \n",
       "3210  63.0             0              0              95.29  31.6       0   \n",
       "2863  58.0             0              0              73.36  36.6       0   \n",
       "757   19.0             0              0              84.31  31.8       0   \n",
       "2102  78.0             1              1             199.88  29.6       0   \n",
       "\n",
       "      gender_code  smoking_status_code  \n",
       "120             1                    1  \n",
       "6               0                    0  \n",
       "205             1                    1  \n",
       "131             1                    0  \n",
       "45              0                    0  \n",
       "...           ...                  ...  \n",
       "3248            1                    1  \n",
       "3210            0                    1  \n",
       "2863            1                    1  \n",
       "757             0                    0  \n",
       "2102            0                    1  \n",
       "\n",
       "[400 rows x 8 columns]"
      ]
     },
     "execution_count": 14,
     "metadata": {},
     "output_type": "execute_result"
    }
   ],
   "source": [
    "ml_df = ml_df.drop(columns=['gender','smoking_status'], axis=1)\n",
    "ml_df"
   ]
  },
  {
   "cell_type": "markdown",
   "metadata": {},
   "source": [
    "- With the 7 independent variables, we detect for multicollinearity to drop variables if necessary."
   ]
  },
  {
   "cell_type": "code",
   "execution_count": 15,
   "metadata": {},
   "outputs": [
    {
     "data": {
      "image/png": "[encoded data removed]",
      "text/plain": [
       "<Figure size 864x576 with 2 Axes>"
      ]
     },
     "metadata": {
      "needs_background": "light"
     },
     "output_type": "display_data"
    }
   ],
   "source": [
    "plt.figure(figsize=(12,8))\n",
    "\n",
    "mask = np.zeros_like(ml_df.corr())\n",
    "mask[np.triu_indices_from(mask)] = 1\n",
    "\n",
    "sns.heatmap(\n",
    "    ml_df.corr(),\n",
    "    cmap='RdBu', annot=True,\n",
    "    mask=mask\n",
    ")\n",
    "\n",
    "plt.show()"
   ]
  },
  {
   "cell_type": "markdown",
   "metadata": {},
   "source": [
    "<div class=\"alert alert-block alert-info\">\n",
    "<b>Insights:</b> <br>\n",
    "- While the correlation coefficients for all the variables relative to one another is considered small, we noticed an unusually high correlation between age and stroke compared to others. <br>\n",
    "- In comparison to others, higher correlation coefficients are also obtained between age and illnesses (hypertension, heart_disease), and between gender_code and smoking_status_code. <br>\n",
    "- i.e. An older person is more likely to suffer from hypertension/heart disease, and males are more likely to be smokers/former smokers than females.\n",
    "</div>"
   ]
  },
  {
   "cell_type": "code",
   "execution_count": 16,
   "metadata": {},
   "outputs": [],
   "source": [
    "ml_x = ml_df[['age', 'gender_code', 'hypertension', 'heart_disease', 'avg_glucose_level', 'bmi','smoking_status_code']]\n",
    "ml_y = ml_df['stroke']"
   ]
  },
  {
   "cell_type": "markdown",
   "metadata": {},
   "source": [
    "- Finally, we will do a simple train/test split to be used in our LR and decision tree models later."
   ]
  },
  {
   "cell_type": "code",
   "execution_count": 17,
   "metadata": {},
   "outputs": [],
   "source": [
    "X_train, X_test, y_train, y_test = train_test_split(ml_x, ml_y, random_state=42, test_size=0.2)"
   ]
  },
  {
   "cell_type": "markdown",
   "metadata": {},
   "source": [
    "<h3> II. Logistic Regression (LR) Model </h3>"
   ]
  },
  {
   "cell_type": "code",
   "execution_count": 18,
   "metadata": {},
   "outputs": [
    {
     "data": {
      "text/plain": [
       "LogisticRegression()"
      ]
     },
     "execution_count": 18,
     "metadata": {},
     "output_type": "execute_result"
    }
   ],
   "source": [
    "stroke_lr = LogisticRegression()\n",
    "\n",
    "stroke_lr.fit(X_train, y_train)"
   ]
  },
  {
   "cell_type": "markdown",
   "metadata": {},
   "source": [
    "<h3> LR Training Results </h3>"
   ]
  },
  {
   "cell_type": "markdown",
   "metadata": {},
   "source": [
    "<u><b>LR Parameter Values</b></u> <br>"
   ]
  },
  {
   "cell_type": "code",
   "execution_count": 19,
   "metadata": {
    "scrolled": true
   },
   "outputs": [
    {
     "name": "stdout",
     "output_type": "stream",
     "text": [
      "Intercept = [-5.81205478]\n",
      "Coefficients = [[0.07640966 0.00596236 0.35181371 0.14836161 0.00285177 0.01953828\n",
      "  0.27190825]]\n"
     ]
    }
   ],
   "source": [
    "print('Intercept =', stroke_lr.intercept_)\n",
    "print('Coefficients =', stroke_lr.coef_)"
   ]
  },
  {
   "cell_type": "markdown",
   "metadata": {},
   "source": [
    "<u><b>Interpretation of Coefficients of LR</b></u> <br>"
   ]
  },
  {
   "cell_type": "code",
   "execution_count": 156,
   "metadata": {},
   "outputs": [],
   "source": [
    "# Run the following code to obtain the interpretations for each risk factor"
   ]
  },
  {
   "cell_type": "code",
   "execution_count": 20,
   "metadata": {
    "scrolled": false
   },
   "outputs": [
    {
     "name": "stdout",
     "output_type": "stream",
     "text": [
      "--------------------------------------------------------\n",
      "For continuous variables - age, avg_glucose_level, bmi\n",
      "--------------------------------------------------------\n",
      "For every one unit change in age , the log odds of a stroke (vs. no stroke) increases by 0.07640965846553611 , i.e. there is a 7.94 % increase in the odds of having a stroke.\n",
      "\n",
      "For every one unit change in avg_glucose_level , the log odds of a stroke (vs. no stroke) increases by 0.0028517740929390333 , i.e. there is a 0.29 % increase in the odds of having a stroke.\n",
      "\n",
      "For every one unit change in bmi , the log odds of a stroke (vs. no stroke) increases by 0.0195382768676469 , i.e. there is a 1.97 % increase in the odds of having a stroke.\n",
      "\n",
      "----------------------------------------------------------------------------------------\n",
      "For discrete variables - gender_code, hypertension, heart_disease, smoking_status_code\n",
      "----------------------------------------------------------------------------------------\n",
      "For gender_code, the log odds of a stroke (vs. no stroke) is 0.005962361432477836 higher for females than males, i.e. females have 0.6 % more odds of having a stroke compared to males.\n",
      "\n",
      "For hypertension, the log odds of a stroke (vs. no stroke) is 0.351813711557933 higher for hypertension patients , i.e. they have 42.16 % more odds of having a stroke.\n",
      "\n",
      "For heart_disease, the log odds of a stroke (vs. no stroke) is 0.14836160619892955 higher for heart disease patients , i.e. they have 15.99 % more odds of having a stroke.\n",
      "\n",
      "For smoking_status, the log odds of a stroke (vs. no stroke) is 0.2719082459573154 higher for patients who smoke/formerly smoked , i.e. they have 31.25 % more odds of having a stroke.\n"
     ]
    }
   ],
   "source": [
    "coef_list = stroke_lr.coef_[0]\n",
    "\n",
    "continuous_var = ['age', 'avg_glucose_level', 'bmi']\n",
    "continuous_coef = [coef_list[0], coef_list[4], coef_list[5]]\n",
    "discrete_coef = [coef_list[1], coef_list[2], coef_list[3], coef_list[6]]\n",
    "n = 0\n",
    "\n",
    "print('--------------------------------------------------------')\n",
    "print('For continuous variables - age, avg_glucose_level, bmi')\n",
    "print('--------------------------------------------------------')\n",
    "for factor in continuous_var:\n",
    "    print('For every one unit change in', factor, ', the log odds of a stroke (vs. no stroke) increases by', \\\n",
    "        continuous_coef[n], ', i.e. there is a', str(round((np.exp(continuous_coef[n])-1)*100,2)), '% increase in the odds', \\\n",
    "          'of having a stroke.')\n",
    "    print()\n",
    "    n+=1\n",
    "\n",
    "print('----------------------------------------------------------------------------------------')\n",
    "print('For discrete variables - gender_code, hypertension, heart_disease, smoking_status_code')\n",
    "print('----------------------------------------------------------------------------------------')\n",
    "print('For gender_code, the log odds of a stroke (vs. no stroke) is', discrete_coef[0], 'higher for females than', \\\n",
    "      'males, i.e. females have', str(round((np.exp(discrete_coef[0])-1)*100,2)), '% more odds of having a', \\\n",
    "      'stroke compared to males.')\n",
    "print()\n",
    "print('For hypertension, the log odds of a stroke (vs. no stroke) is', discrete_coef[1], 'higher for hypertension patients', \\\n",
    "      ', i.e. they have', str(round((np.exp(discrete_coef[1])-1)*100,2)), '% more odds of having a', \\\n",
    "      'stroke.')\n",
    "print()\n",
    "print('For heart_disease, the log odds of a stroke (vs. no stroke) is', discrete_coef[2], 'higher for heart disease patients', \\\n",
    "      ', i.e. they have', str(round((np.exp(discrete_coef[2])-1)*100,2)), '% more odds of having a', \\\n",
    "      'stroke.')\n",
    "print()\n",
    "print('For smoking_status, the log odds of a stroke (vs. no stroke) is', discrete_coef[3], 'higher for patients who smoke/formerly smoked', \\\n",
    "      ', i.e. they have', str(round((np.exp(discrete_coef[3])-1)*100,2)), '% more odds of having a', \\\n",
    "      'stroke.')"
   ]
  },
  {
   "cell_type": "markdown",
   "metadata": {},
   "source": [
    "<h3> III. Decision Tree Model </h3>"
   ]
  },
  {
   "cell_type": "code",
   "execution_count": 21,
   "metadata": {},
   "outputs": [
    {
     "data": {
      "text/plain": [
       "DecisionTreeClassifier(criterion='entropy', random_state=0)"
      ]
     },
     "execution_count": 21,
     "metadata": {},
     "output_type": "execute_result"
    }
   ],
   "source": [
    "from sklearn.tree import DecisionTreeClassifier\n",
    "\n",
    "# growing the tree\n",
    "stroke_tree = DecisionTreeClassifier(criterion='entropy', random_state=0)\n",
    "stroke_tree.fit(X_train, y_train)"
   ]
  },
  {
   "cell_type": "markdown",
   "metadata": {},
   "source": [
    "<h3>Decision Tree Training Results</b></h3>"
   ]
  },
  {
   "cell_type": "markdown",
   "metadata": {},
   "source": [
    "<u> <b> Feature Importance </b> </u>"
   ]
  },
  {
   "cell_type": "code",
   "execution_count": 22,
   "metadata": {},
   "outputs": [
    {
     "name": "stdout",
     "output_type": "stream",
     "text": [
      "[0.44088702 0.03635953 0.01499706 0.00236009 0.26821552 0.19386811\n",
      " 0.04331267]\n"
     ]
    },
    {
     "data": {
      "image/png": "[encoded data removed]",
      "text/plain": [
       "<Figure size 432x288 with 1 Axes>"
      ]
     },
     "metadata": {
      "needs_background": "light"
     },
     "output_type": "display_data"
    }
   ],
   "source": [
    "fig, ax = plt.subplots()\n",
    "ax.barh(ml_x.columns, stroke_tree.feature_importances_)\n",
    "print(stroke_tree.feature_importances_)"
   ]
  },
  {
   "cell_type": "markdown",
   "metadata": {},
   "source": [
    "<div class=\"alert alert-block alert-info\">\n",
    "<b>Insights:</b><br> According to our decision tree model, the three most important risk factors of stroke are <b>high BMI</b>, <b>high average glucose level</b> and <b>old age</b>.\n",
    "</div>"
   ]
  },
  {
   "cell_type": "markdown",
   "metadata": {},
   "source": [
    "<h3> IV. Comparison of Performance Results between LR Model and Decision Tree Model </h3>"
   ]
  },
  {
   "cell_type": "code",
   "execution_count": 23,
   "metadata": {},
   "outputs": [
    {
     "data": {
      "image/png": "[encoded data removed]",
      "text/plain": [
       "<Figure size 1296x360 with 4 Axes>"
      ]
     },
     "metadata": {
      "needs_background": "light"
     },
     "output_type": "display_data"
    },
    {
     "name": "stdout",
     "output_type": "stream",
     "text": [
      "--------------------------------\n",
      "LR Results\n",
      "--------------------------------\n",
      "Accuracy = 0.675\n",
      "Precision = 0.7045454545454546\n",
      "\n",
      "--------------------------------\n",
      "Decision Tree Results\n",
      "--------------------------------\n",
      "Accuracy = 0.65\n",
      "Precision = 0.6904761904761905\n"
     ]
    }
   ],
   "source": [
    "#----------------------------------------------------------------------------------------------------------\n",
    "\n",
    "# LR Prediction Results\n",
    "lr_predict = stroke_lr.predict(X_test)\n",
    "lr_cm = confusion_matrix(y_test,lr_predict)\n",
    "\n",
    "fig, ax = plt.subplots(nrows=1, ncols=2, sharex=True, figsize=(18,5))\n",
    "ax1 = ax[0]\n",
    "ax2 = ax[1]\n",
    "\n",
    "# Plotting confusion matrix for logistic regression model\n",
    "sns.heatmap(lr_cm, annot=True, square=True, cmap=plt.cm.Blues, ax=ax1)\n",
    "ax1.set_ylim(2,0)\n",
    "ax1.set_xlim(0,2)\n",
    "ax1.set_ylabel('True label')\n",
    "ax1.set_xlabel('Predicted label')\n",
    "ax1.set_title('Confusion Matrix - Stroke Predictions using Logistic Regression Model', fontsize=12)\n",
    "\n",
    "#----------------------------------------------------------------------------------------------------------\n",
    "\n",
    "# Decision Tree predictions\n",
    "tree_pred = stroke_tree.predict(X_test)\n",
    "tree_cm = confusion_matrix(y_test, tree_pred)\n",
    "\n",
    "# Plotting confusion matrix for decision tree model\n",
    "sns.heatmap(tree_cm, annot=True, square=True, cmap=plt.cm.Blues, ax=ax2)\n",
    "ax2.set_ylim(2,0)\n",
    "ax2.set_xlim(0,2)\n",
    "ax2.set_ylabel('True label')\n",
    "ax2.set_xlabel('Predicted label')\n",
    "ax2.set_title('Confusion Matrix - Stroke Predictions using Decision Tree Model', fontsize=12)\n",
    "\n",
    "plt.show()\n",
    "\n",
    "#----------------------------------------------------------------------------------------------------------\n",
    "\n",
    "# LR Performance Results:\n",
    "lr_TP = lr_cm[1][1]\n",
    "lr_TN = lr_cm[0][0]\n",
    "lr_FP = lr_cm[0][1]\n",
    "lr_FN = lr_cm[1][0]\n",
    "lr_accuracy = (lr_TP+lr_TN) / (lr_TP+lr_TN+lr_FP+lr_FN)\n",
    "lr_precision = lr_TP / (lr_TP + lr_FP)\n",
    "\n",
    "print('--------------------------------')\n",
    "print('LR Results')\n",
    "print('--------------------------------')\n",
    "print('Accuracy =', lr_accuracy)\n",
    "print('Precision =', lr_precision)\n",
    "print()\n",
    "\n",
    "#----------------------------------------------------------------------------------------------------------\n",
    "\n",
    "# Decision Tree Performance Results:\n",
    "tree_TP = tree_cm[1][1]\n",
    "tree_TN = tree_cm[0][0]\n",
    "tree_FP = tree_cm[0][1]\n",
    "tree_FN = tree_cm[1][0]\n",
    "tree_accuracy = (tree_TP+tree_TN) / (tree_TP+tree_TN+tree_FP+tree_FN)\n",
    "tree_precision = tree_TP / (tree_TP + tree_FP)\n",
    "\n",
    "print('--------------------------------')\n",
    "print('Decision Tree Results')\n",
    "print('--------------------------------')\n",
    "print('Accuracy =', tree_accuracy)\n",
    "print('Precision =', tree_precision)"
   ]
  },
  {
   "cell_type": "markdown",
   "metadata": {},
   "source": [
    "<h3> V. Further Evaluation of ML models - using K-Fold Cross-Validation </h3>"
   ]
  },
  {
   "cell_type": "markdown",
   "metadata": {},
   "source": [
    "- In order to cope with our small dataset, we can improve our LR and decision tree models with k-fold train/test split.\n",
    "- K-fold procedure enables us to maximise the use of our limited data in training/testing. It will also result in a less biased estimate of the skill of our logistic regression model as compared to a simple train/test split. <br>\n",
    "<br>\n",
    "- In the following codes, we will demonstrate the use of k-fold for our LR model.\n",
    "- Using a value of `k=10`, we split the dataset into 10 folds, with the size of each set (fold) being 40 and ratio of train/test size being 9:1 for each iteration. \n",
    "- The KFold’s `shuffle` parameter is also set to be `True` because our dataset segregates the stroke and non-stroke rows distinctly."
   ]
  },
  {
   "cell_type": "code",
   "execution_count": 24,
   "metadata": {},
   "outputs": [],
   "source": [
    "kf = KFold(n_splits=10, shuffle=True, random_state=42)\n",
    "\n",
    "k_results = []\n",
    "\n",
    "k = 1\n",
    "\n",
    "for train_index, test_index in kf.split(ml_x):\n",
    "    X_train, X_test = ml_x.iloc[train_index], ml_x.iloc[test_index]\n",
    "    y_train, y_test = ml_y.iloc[train_index], ml_y.iloc[test_index]\n",
    "    \n",
    "    stroke_lr = LogisticRegression()\n",
    "    stroke_lr.fit(X_train, y_train)\n",
    "    \n",
    "    y_predicted =  stroke_lr.predict(X_test)\n",
    "    \n",
    "    k_results.append({\n",
    "        'coefficients': stroke_lr.coef_,\n",
    "        'accuracy': accuracy_score(y_test, y_predicted)\n",
    "    })\n",
    "    \n",
    "    k += 1"
   ]
  },
  {
   "cell_type": "markdown",
   "metadata": {},
   "source": [
    "<h3>K-Fold Results</b></h3>\n",
    "\n",
    "<u><b>Coefficients</b></u>\n",
    "\n",
    "- The following results are the coefficient values obtained for each fold."
   ]
  },
  {
   "cell_type": "code",
   "execution_count": 25,
   "metadata": {},
   "outputs": [
    {
     "data": {
      "text/html": [
       "<div>\n",
       "<style scoped>\n",
       "    .dataframe tbody tr th:only-of-type {\n",
       "        vertical-align: middle;\n",
       "    }\n",
       "\n",
       "    .dataframe tbody tr th {\n",
       "        vertical-align: top;\n",
       "    }\n",
       "\n",
       "    .dataframe thead th {\n",
       "        text-align: right;\n",
       "    }\n",
       "</style>\n",
       "<table border=\"1\" class=\"dataframe\">\n",
       "  <thead>\n",
       "    <tr style=\"text-align: right;\">\n",
       "      <th></th>\n",
       "      <th>age</th>\n",
       "      <th>gender_code</th>\n",
       "      <th>hypertension</th>\n",
       "      <th>heart_disease</th>\n",
       "      <th>avg_glucose_level</th>\n",
       "      <th>bmi</th>\n",
       "      <th>smoking_status_code</th>\n",
       "    </tr>\n",
       "    <tr>\n",
       "      <th>Fold</th>\n",
       "      <th></th>\n",
       "      <th></th>\n",
       "      <th></th>\n",
       "      <th></th>\n",
       "      <th></th>\n",
       "      <th></th>\n",
       "      <th></th>\n",
       "    </tr>\n",
       "  </thead>\n",
       "  <tbody>\n",
       "    <tr>\n",
       "      <th>1</th>\n",
       "      <td>0.074825</td>\n",
       "      <td>0.030668</td>\n",
       "      <td>0.398083</td>\n",
       "      <td>-0.038556</td>\n",
       "      <td>0.003312</td>\n",
       "      <td>0.013700</td>\n",
       "      <td>0.347779</td>\n",
       "    </tr>\n",
       "    <tr>\n",
       "      <th>2</th>\n",
       "      <td>0.073213</td>\n",
       "      <td>-0.160966</td>\n",
       "      <td>0.295261</td>\n",
       "      <td>-0.107991</td>\n",
       "      <td>0.002276</td>\n",
       "      <td>0.017389</td>\n",
       "      <td>0.360410</td>\n",
       "    </tr>\n",
       "    <tr>\n",
       "      <th>3</th>\n",
       "      <td>0.075000</td>\n",
       "      <td>-0.240675</td>\n",
       "      <td>0.308074</td>\n",
       "      <td>-0.125006</td>\n",
       "      <td>0.003217</td>\n",
       "      <td>0.003893</td>\n",
       "      <td>0.322689</td>\n",
       "    </tr>\n",
       "    <tr>\n",
       "      <th>4</th>\n",
       "      <td>0.070426</td>\n",
       "      <td>-0.095075</td>\n",
       "      <td>0.282664</td>\n",
       "      <td>-0.127909</td>\n",
       "      <td>0.002818</td>\n",
       "      <td>0.004562</td>\n",
       "      <td>0.341501</td>\n",
       "    </tr>\n",
       "    <tr>\n",
       "      <th>5</th>\n",
       "      <td>0.071457</td>\n",
       "      <td>-0.196021</td>\n",
       "      <td>0.292400</td>\n",
       "      <td>-0.385634</td>\n",
       "      <td>0.001941</td>\n",
       "      <td>0.020359</td>\n",
       "      <td>0.380005</td>\n",
       "    </tr>\n",
       "    <tr>\n",
       "      <th>6</th>\n",
       "      <td>0.070249</td>\n",
       "      <td>-0.054834</td>\n",
       "      <td>0.177647</td>\n",
       "      <td>-0.201456</td>\n",
       "      <td>0.002095</td>\n",
       "      <td>0.009037</td>\n",
       "      <td>0.321149</td>\n",
       "    </tr>\n",
       "    <tr>\n",
       "      <th>7</th>\n",
       "      <td>0.069674</td>\n",
       "      <td>-0.016366</td>\n",
       "      <td>0.301412</td>\n",
       "      <td>-0.283817</td>\n",
       "      <td>0.001927</td>\n",
       "      <td>0.019079</td>\n",
       "      <td>0.377846</td>\n",
       "    </tr>\n",
       "    <tr>\n",
       "      <th>8</th>\n",
       "      <td>0.074402</td>\n",
       "      <td>-0.144383</td>\n",
       "      <td>0.366000</td>\n",
       "      <td>-0.256860</td>\n",
       "      <td>0.002885</td>\n",
       "      <td>0.008987</td>\n",
       "      <td>0.386982</td>\n",
       "    </tr>\n",
       "    <tr>\n",
       "      <th>9</th>\n",
       "      <td>0.067227</td>\n",
       "      <td>-0.147760</td>\n",
       "      <td>0.377723</td>\n",
       "      <td>-0.216483</td>\n",
       "      <td>0.003884</td>\n",
       "      <td>0.014615</td>\n",
       "      <td>0.581916</td>\n",
       "    </tr>\n",
       "    <tr>\n",
       "      <th>10</th>\n",
       "      <td>0.072645</td>\n",
       "      <td>-0.135750</td>\n",
       "      <td>0.554656</td>\n",
       "      <td>0.027885</td>\n",
       "      <td>0.002695</td>\n",
       "      <td>0.007631</td>\n",
       "      <td>0.374729</td>\n",
       "    </tr>\n",
       "  </tbody>\n",
       "</table>\n",
       "</div>"
      ],
      "text/plain": [
       "           age  gender_code  hypertension  heart_disease  avg_glucose_level  \\\n",
       "Fold                                                                          \n",
       "1     0.074825     0.030668      0.398083      -0.038556           0.003312   \n",
       "2     0.073213    -0.160966      0.295261      -0.107991           0.002276   \n",
       "3     0.075000    -0.240675      0.308074      -0.125006           0.003217   \n",
       "4     0.070426    -0.095075      0.282664      -0.127909           0.002818   \n",
       "5     0.071457    -0.196021      0.292400      -0.385634           0.001941   \n",
       "6     0.070249    -0.054834      0.177647      -0.201456           0.002095   \n",
       "7     0.069674    -0.016366      0.301412      -0.283817           0.001927   \n",
       "8     0.074402    -0.144383      0.366000      -0.256860           0.002885   \n",
       "9     0.067227    -0.147760      0.377723      -0.216483           0.003884   \n",
       "10    0.072645    -0.135750      0.554656       0.027885           0.002695   \n",
       "\n",
       "           bmi  smoking_status_code  \n",
       "Fold                                 \n",
       "1     0.013700             0.347779  \n",
       "2     0.017389             0.360410  \n",
       "3     0.003893             0.322689  \n",
       "4     0.004562             0.341501  \n",
       "5     0.020359             0.380005  \n",
       "6     0.009037             0.321149  \n",
       "7     0.019079             0.377846  \n",
       "8     0.008987             0.386982  \n",
       "9     0.014615             0.581916  \n",
       "10    0.007631             0.374729  "
      ]
     },
     "metadata": {},
     "output_type": "display_data"
    },
    {
     "data": {
      "text/html": [
       "<div>\n",
       "<style scoped>\n",
       "    .dataframe tbody tr th:only-of-type {\n",
       "        vertical-align: middle;\n",
       "    }\n",
       "\n",
       "    .dataframe tbody tr th {\n",
       "        vertical-align: top;\n",
       "    }\n",
       "\n",
       "    .dataframe thead th {\n",
       "        text-align: right;\n",
       "    }\n",
       "</style>\n",
       "<table border=\"1\" class=\"dataframe\">\n",
       "  <thead>\n",
       "    <tr style=\"text-align: right;\">\n",
       "      <th></th>\n",
       "      <th>mean coefficient value</th>\n",
       "    </tr>\n",
       "  </thead>\n",
       "  <tbody>\n",
       "    <tr>\n",
       "      <th>age</th>\n",
       "      <td>0.071912</td>\n",
       "    </tr>\n",
       "    <tr>\n",
       "      <th>gender_code</th>\n",
       "      <td>-0.116116</td>\n",
       "    </tr>\n",
       "    <tr>\n",
       "      <th>hypertension</th>\n",
       "      <td>0.335392</td>\n",
       "    </tr>\n",
       "    <tr>\n",
       "      <th>heart_disease</th>\n",
       "      <td>-0.171583</td>\n",
       "    </tr>\n",
       "    <tr>\n",
       "      <th>avg_glucose_level</th>\n",
       "      <td>0.002705</td>\n",
       "    </tr>\n",
       "    <tr>\n",
       "      <th>bmi</th>\n",
       "      <td>0.011925</td>\n",
       "    </tr>\n",
       "    <tr>\n",
       "      <th>smoking_status_code</th>\n",
       "      <td>0.379501</td>\n",
       "    </tr>\n",
       "  </tbody>\n",
       "</table>\n",
       "</div>"
      ],
      "text/plain": [
       "                     mean coefficient value\n",
       "age                                0.071912\n",
       "gender_code                       -0.116116\n",
       "hypertension                       0.335392\n",
       "heart_disease                     -0.171583\n",
       "avg_glucose_level                  0.002705\n",
       "bmi                                0.011925\n",
       "smoking_status_code                0.379501"
      ]
     },
     "metadata": {},
     "output_type": "display_data"
    }
   ],
   "source": [
    "coeff_list = [list((k_results[0]['coefficients'][0]))]\n",
    "\n",
    "for fold in k_results[1:]:\n",
    "    coeff_list.append(list(fold['coefficients'][0]))\n",
    "\n",
    "coeff_df = pd.DataFrame(coeff_list, columns=ml_x.columns,index=[1,2,3,4,5,6,7,8,9,10])\n",
    "coeff_df.index.name = 'Fold'\n",
    "\n",
    "coeff_avg_df = pd.DataFrame(coeff_df.mean(),columns=['mean coefficient value'])\n",
    "\n",
    "display(coeff_df, coeff_avg_df)"
   ]
  },
  {
   "cell_type": "markdown",
   "metadata": {},
   "source": [
    "<u><b>Model Performance</b></u>\n",
    "\n",
    "<b> Averaging results across 10 folds... </b>"
   ]
  },
  {
   "cell_type": "code",
   "execution_count": 26,
   "metadata": {},
   "outputs": [
    {
     "data": {
      "text/html": [
       "<div>\n",
       "<style scoped>\n",
       "    .dataframe tbody tr th:only-of-type {\n",
       "        vertical-align: middle;\n",
       "    }\n",
       "\n",
       "    .dataframe tbody tr th {\n",
       "        vertical-align: top;\n",
       "    }\n",
       "\n",
       "    .dataframe thead th {\n",
       "        text-align: right;\n",
       "    }\n",
       "</style>\n",
       "<table border=\"1\" class=\"dataframe\">\n",
       "  <thead>\n",
       "    <tr style=\"text-align: right;\">\n",
       "      <th></th>\n",
       "      <th>accuracy_score</th>\n",
       "    </tr>\n",
       "    <tr>\n",
       "      <th>Fold</th>\n",
       "      <th></th>\n",
       "    </tr>\n",
       "  </thead>\n",
       "  <tbody>\n",
       "    <tr>\n",
       "      <th>1</th>\n",
       "      <td>0.600</td>\n",
       "    </tr>\n",
       "    <tr>\n",
       "      <th>2</th>\n",
       "      <td>0.775</td>\n",
       "    </tr>\n",
       "    <tr>\n",
       "      <th>3</th>\n",
       "      <td>0.700</td>\n",
       "    </tr>\n",
       "    <tr>\n",
       "      <th>4</th>\n",
       "      <td>0.725</td>\n",
       "    </tr>\n",
       "    <tr>\n",
       "      <th>5</th>\n",
       "      <td>0.775</td>\n",
       "    </tr>\n",
       "    <tr>\n",
       "      <th>6</th>\n",
       "      <td>0.825</td>\n",
       "    </tr>\n",
       "    <tr>\n",
       "      <th>7</th>\n",
       "      <td>0.825</td>\n",
       "    </tr>\n",
       "    <tr>\n",
       "      <th>8</th>\n",
       "      <td>0.625</td>\n",
       "    </tr>\n",
       "    <tr>\n",
       "      <th>9</th>\n",
       "      <td>0.750</td>\n",
       "    </tr>\n",
       "    <tr>\n",
       "      <th>10</th>\n",
       "      <td>0.700</td>\n",
       "    </tr>\n",
       "  </tbody>\n",
       "</table>\n",
       "</div>"
      ],
      "text/plain": [
       "      accuracy_score\n",
       "Fold                \n",
       "1              0.600\n",
       "2              0.775\n",
       "3              0.700\n",
       "4              0.725\n",
       "5              0.775\n",
       "6              0.825\n",
       "7              0.825\n",
       "8              0.625\n",
       "9              0.750\n",
       "10             0.700"
      ]
     },
     "metadata": {},
     "output_type": "display_data"
    },
    {
     "name": "stdout",
     "output_type": "stream",
     "text": [
      "Accuracy Score:\n",
      "mean = 0.73\n",
      "std = 0.0722841614740048\n"
     ]
    }
   ],
   "source": [
    "accuracy_list = []\n",
    "\n",
    "for fold in k_results:\n",
    "    accuracy_list.append(fold['accuracy'])\n",
    "    \n",
    "accuracy_df = pd.DataFrame(accuracy_list, columns=['accuracy_score'],index=[1,2,3,4,5,6,7,8,9,10])\n",
    "accuracy_df.index.name = 'Fold'\n",
    "\n",
    "display(accuracy_df)\n",
    "print('Accuracy Score:')\n",
    "print('mean =', np.mean(accuracy_list))\n",
    "print('std =', np.std(accuracy_list))"
   ]
  },
  {
   "cell_type": "markdown",
   "metadata": {},
   "source": [
    "<b> Using `cross_val_predict`... </b> <br>\n",
    "- Instead of averaging the results across 10 folds, another way to evaluate the results of the k-fold LR model is to generate cross-validated estimates for each input data point."
   ]
  },
  {
   "cell_type": "code",
   "execution_count": 27,
   "metadata": {},
   "outputs": [
    {
     "data": {
      "image/png": "[encoded data removed]",
      "text/plain": [
       "<Figure size 432x288 with 2 Axes>"
      ]
     },
     "metadata": {
      "needs_background": "light"
     },
     "output_type": "display_data"
    },
    {
     "name": "stdout",
     "output_type": "stream",
     "text": [
      "K-fold LR Results:\n",
      "Accuracy = 0.73\n",
      "Precision = 0.7017543859649122\n"
     ]
    }
   ],
   "source": [
    "stroke_lr = LogisticRegression()\n",
    "y_pred = cross_val_predict(stroke_lr, ml_x, ml_y, cv=kf, n_jobs=-1)\n",
    "cm = confusion_matrix(ml_y, y_pred)\n",
    "\n",
    "# Plot confusion matrix\n",
    "sns.heatmap(cm, fmt='.0f', annot=True, square=True, cmap=plt.cm.Blues)\n",
    "plt.ylim = (2,0)\n",
    "plt.xlim = (0,2)\n",
    "plt.yticks(rotation=0)\n",
    "plt.ylabel('True label')\n",
    "plt.xlabel('Predicted label')\n",
    "plt.title('Confusion Matrix - Stroke Predictions using K-fold Logistic Regression Model ')\n",
    "plt.show()\n",
    "\n",
    "# Performance Results:\n",
    "TP = cm[1][1]\n",
    "TN = cm[0][0]\n",
    "FP = cm[0][1]\n",
    "FN = cm[1][0]\n",
    "accuracy = (TP+TN) / (TP+TN+FP+FN)\n",
    "precision = TP / (TP + FP)\n",
    "\n",
    "print('K-fold LR Results:')\n",
    "print('Accuracy =', accuracy)\n",
    "print('Precision =', precision)"
   ]
  },
  {
   "cell_type": "markdown",
   "metadata": {},
   "source": [
    "<h3> VI. Closing </h3>"
   ]
  },
  {
   "cell_type": "markdown",
   "metadata": {},
   "source": [
    "This concludes our brief analysis on the possible risk factors of `stroke`. We will proceed with an evaluation on our methods.\n",
    "\n",
    "After we have examined how each risk factor relates to the occurence of stroke using data visualisation tools (section B), we explored various machine learning techniques to perform a multivariate analysis (section C).\n",
    "\n",
    "Upon performing logistic regression, we realised a discrepancy between the intepretation of coefficient of a factor and its actual analysis. Through logistic regression, the odds of a female having a stroke is greater than that of a male. This is in contrast to our earlier analysis which shows that a greater proportion of stroke patients are actually males. This reflects an issue with our coefficient values, which may be attributed to several reasons:\n",
    "\n",
    "- <b>Issue 1:</b> mix of both discrete and continuous variables used in our analysis <br>\n",
    "- <b>Issue 2:</b> small sample size of 400 due to insufficient data of stroke patients <br>\n",
    "- <b>Issue 3:</b> unequal distribution of `gender` with more females fitted in our machine learning models <br>\n",
    "\n",
    "Evidently, our logistic regression model has its flaws. We can improve it by possibly doing:\n",
    "\n",
    "- <b>Solution 1:</b> a separate logistic regression for continuous and discrete variables  (tackle issue 1) <br>\n",
    "- <b>Solution 2:</b> Gathering data for a greater number of stroke patients such that our sample size can be scaled for model to be trained sufficiently in both stroke and non-stroke patients (tackle issue 2) <br>\n",
    "- <b>Solution 3:</b> filtering our dataframe such that there is an equal number of males and females before performing the regression (tackle issue 3) <br>\n",
    "\n",
    "From tracking the feature importances of our variables, the 3 most defining variables in causing stroke are `age`, `bmi` and `glucose level`. We cannot use the coefficients from our logistic regression to compare as each data has a different scale. One way to counter this is to use `MinMaxScaler` to ensure that each unit change in the variables are proportionate. However when compared to our initial data analysis, we see some correspondence in the feature importance of variables. The distribution plots of age and BMI show a significant difference in proportion of stroke patients across different `age` and `bmi`, as compared to less significant changes in `smoking_status` and `gender`.\n",
    "\n",
    "All in all, we learnt that our methodology is imperfect and there are always ways to further improve our accuracy by changing different parts of the process from the data collected to the methods used.\n",
    "\n",
    "Moving on, possible future research efforts include creating a machine learning model predict the presence of stroke in people, after doing a proper and thorough analysis. This can help to identify people with a high risk of stroke from the general population from inputting simple information like `age` and `bmi` to perform testing on. Hopefully, this will help to conserve valuable medical resources from detecting the risk of stroke on people around the world."
   ]
  }
 ],
 "metadata": {
  "kernelspec": {
   "display_name": "Python 3",
   "language": "python",
   "name": "python3"
  },
  "language_info": {
   "codemirror_mode": {
    "name": "ipython",
    "version": 3
   },
   "file_extension": ".py",
   "mimetype": "text/x-python",
   "name": "python",
   "nbconvert_exporter": "python",
   "pygments_lexer": "ipython3",
   "version": "3.8.8"
  }
 },
 "nbformat": 4,
 "nbformat_minor": 4
}
